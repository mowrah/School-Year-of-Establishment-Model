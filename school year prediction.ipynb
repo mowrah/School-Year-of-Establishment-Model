{
 "cells": [
  {
   "cell_type": "code",
   "execution_count": 43,
   "id": "b12d8e31",
   "metadata": {},
   "outputs": [],
   "source": [
    "import pandas as pd\n",
    "import numpy as np\n",
    "from sklearn.pipeline import FeatureUnion"
   ]
  },
  {
   "cell_type": "code",
   "execution_count": 44,
   "id": "dfd992d3",
   "metadata": {},
   "outputs": [
    {
     "data": {
      "text/html": [
       "<div>\n",
       "<style scoped>\n",
       "    .dataframe tbody tr th:only-of-type {\n",
       "        vertical-align: middle;\n",
       "    }\n",
       "\n",
       "    .dataframe tbody tr th {\n",
       "        vertical-align: top;\n",
       "    }\n",
       "\n",
       "    .dataframe thead th {\n",
       "        text-align: right;\n",
       "    }\n",
       "</style>\n",
       "<table border=\"1\" class=\"dataframe\">\n",
       "  <thead>\n",
       "    <tr style=\"text-align: right;\">\n",
       "      <th></th>\n",
       "      <th>Name</th>\n",
       "      <th>Ownership</th>\n",
       "      <th>Category</th>\n",
       "      <th>Year of Establishment</th>\n",
       "    </tr>\n",
       "  </thead>\n",
       "  <tbody>\n",
       "    <tr>\n",
       "      <th>0</th>\n",
       "      <td>Federal College of Education (Technical), Asaba</td>\n",
       "      <td>Federal Government</td>\n",
       "      <td>College of Education</td>\n",
       "      <td>1987</td>\n",
       "    </tr>\n",
       "    <tr>\n",
       "      <th>1</th>\n",
       "      <td>Federal College of Education,  Kano</td>\n",
       "      <td>Federal Government</td>\n",
       "      <td>College of Education</td>\n",
       "      <td>1961</td>\n",
       "    </tr>\n",
       "    <tr>\n",
       "      <th>2</th>\n",
       "      <td>Federal College of Education (Special), Oyo</td>\n",
       "      <td>Federal Government</td>\n",
       "      <td>College of Education</td>\n",
       "      <td>1977</td>\n",
       "    </tr>\n",
       "    <tr>\n",
       "      <th>3</th>\n",
       "      <td>College of Education,  Gindiri</td>\n",
       "      <td>State Government</td>\n",
       "      <td>College of Education</td>\n",
       "      <td>1980</td>\n",
       "    </tr>\n",
       "    <tr>\n",
       "      <th>4</th>\n",
       "      <td>College of Education, Hong</td>\n",
       "      <td>State Government</td>\n",
       "      <td>College of Education</td>\n",
       "      <td>1970</td>\n",
       "    </tr>\n",
       "    <tr>\n",
       "      <th>...</th>\n",
       "      <td>...</td>\n",
       "      <td>...</td>\n",
       "      <td>...</td>\n",
       "      <td>...</td>\n",
       "    </tr>\n",
       "    <tr>\n",
       "      <th>1043</th>\n",
       "      <td>Umuebe Farm College, Abakililki, Ebonyi State</td>\n",
       "      <td>Private</td>\n",
       "      <td>Specialized Institute</td>\n",
       "      <td>2010</td>\n",
       "    </tr>\n",
       "    <tr>\n",
       "      <th>1044</th>\n",
       "      <td>Unival Institute of Technology, Benin City</td>\n",
       "      <td>Private</td>\n",
       "      <td>Specialized Institute</td>\n",
       "      <td>2015</td>\n",
       "    </tr>\n",
       "    <tr>\n",
       "      <th>1045</th>\n",
       "      <td>UTAGBA-UNO Vocational Enterprise Institute, is...</td>\n",
       "      <td>Private</td>\n",
       "      <td>Specialized Institute</td>\n",
       "      <td>2009</td>\n",
       "    </tr>\n",
       "    <tr>\n",
       "      <th>1046</th>\n",
       "      <td>Yenagoa Enterprise School, Yenagoa</td>\n",
       "      <td>Private</td>\n",
       "      <td>Specialized Institute</td>\n",
       "      <td>2015</td>\n",
       "    </tr>\n",
       "    <tr>\n",
       "      <th>1047</th>\n",
       "      <td>Young Men Christian Association (YMCA) Vocatio...</td>\n",
       "      <td>Private</td>\n",
       "      <td>Specialized Institute</td>\n",
       "      <td>2012</td>\n",
       "    </tr>\n",
       "  </tbody>\n",
       "</table>\n",
       "<p>1048 rows × 4 columns</p>\n",
       "</div>"
      ],
      "text/plain": [
       "                                                   Name           Ownership  \\\n",
       "0       Federal College of Education (Technical), Asaba  Federal Government   \n",
       "1                   Federal College of Education,  Kano  Federal Government   \n",
       "2           Federal College of Education (Special), Oyo  Federal Government   \n",
       "3                        College of Education,  Gindiri    State Government   \n",
       "4                           College of Education, Hong     State Government   \n",
       "...                                                 ...                 ...   \n",
       "1043      Umuebe Farm College, Abakililki, Ebonyi State             Private   \n",
       "1044         Unival Institute of Technology, Benin City             Private   \n",
       "1045  UTAGBA-UNO Vocational Enterprise Institute, is...             Private   \n",
       "1046                 Yenagoa Enterprise School, Yenagoa             Private   \n",
       "1047  Young Men Christian Association (YMCA) Vocatio...             Private   \n",
       "\n",
       "                   Category  Year of Establishment  \n",
       "0      College of Education                   1987  \n",
       "1      College of Education                   1961  \n",
       "2      College of Education                   1977  \n",
       "3      College of Education                   1980  \n",
       "4      College of Education                   1970  \n",
       "...                     ...                    ...  \n",
       "1043  Specialized Institute                   2010  \n",
       "1044  Specialized Institute                   2015  \n",
       "1045  Specialized Institute                   2009  \n",
       "1046  Specialized Institute                   2015  \n",
       "1047  Specialized Institute                   2012  \n",
       "\n",
       "[1048 rows x 4 columns]"
      ]
     },
     "execution_count": 44,
     "metadata": {},
     "output_type": "execute_result"
    }
   ],
   "source": [
    "df = pd.read_csv('Higher Institutions.csv')\n",
    "df"
   ]
  },
  {
   "cell_type": "code",
   "execution_count": 47,
   "id": "91cf6043",
   "metadata": {},
   "outputs": [],
   "source": [
    "a = df['Name']\n",
    "b = df['Ownership']\n",
    "c = df['Category']\n",
    "y = df['Year of Establishment'].values"
   ]
  },
  {
   "cell_type": "code",
   "execution_count": 48,
   "id": "8bc6ec00",
   "metadata": {},
   "outputs": [],
   "source": [
    "from sklearn.feature_extraction.text import CountVectorizer"
   ]
  },
  {
   "cell_type": "code",
   "execution_count": 5,
   "id": "92849b62",
   "metadata": {},
   "outputs": [],
   "source": [
    "a_lower = [text.lower() for text in a]\n",
    "b_lower = [text.lower() for text in b]\n",
    "c_lower = [text.lower() for text in c]"
   ]
  },
  {
   "cell_type": "code",
   "execution_count": 76,
   "id": "b0148655",
   "metadata": {},
   "outputs": [],
   "source": [
    "cv_a = CountVectorizer()\n",
    "cv_b = CountVectorizer()\n",
    "cv_c = CountVectorizer()"
   ]
  },
  {
   "cell_type": "code",
   "execution_count": 77,
   "id": "acde5cb4",
   "metadata": {},
   "outputs": [],
   "source": [
    "a_transformed = cv_a.fit_transform(a_lower)\n",
    "b_transformed = cv_b.fit_transform(b_lower)\n",
    "c_transformed = cv_c.fit_transform(c_lower)"
   ]
  },
  {
   "cell_type": "code",
   "execution_count": 78,
   "id": "26db37b6",
   "metadata": {},
   "outputs": [],
   "source": [
    "X = np.hstack((a_transformed.toarray(), b_transformed.toarray(), c_transformed.toarray()))"
   ]
  },
  {
   "cell_type": "code",
   "execution_count": 79,
   "id": "3bf95293",
   "metadata": {},
   "outputs": [],
   "source": [
    "from sklearn.model_selection import train_test_split\n",
    "X_train, X_test, y_train, y_test = train_test_split(X, y, test_size=0.3, random_state=42)"
   ]
  },
  {
   "cell_type": "code",
   "execution_count": 91,
   "id": "ac463acb",
   "metadata": {},
   "outputs": [
    {
     "data": {
      "text/plain": [
       "SVC(kernel='linear')"
      ]
     },
     "execution_count": 91,
     "metadata": {},
     "output_type": "execute_result"
    }
   ],
   "source": [
    "from sklearn import svm\n",
    "model = svm.SVC(kernel='linear')\n",
    "model.fit(X_train,y_train)"
   ]
  },
  {
   "cell_type": "code",
   "execution_count": 92,
   "id": "47dc856d",
   "metadata": {},
   "outputs": [
    {
     "name": "stdout",
     "output_type": "stream",
     "text": [
      "Name: University of Port Harcourt\n",
      "Ownership: Federal University\n",
      "Category: University\n",
      "[1975]\n"
     ]
    }
   ],
   "source": [
    "user1 = input(\"Name: \").lower()\n",
    "user2 = input(\"Ownership: \").lower()\n",
    "user3 = input(\"Category: \").lower()\n",
    "data_a = cv_a.transform([user1])\n",
    "data_b = cv_b.transform([user2])\n",
    "data_c = cv_c.transform([user3])\n",
    "data = np.hstack((data_a.toarray(), data_b.toarray(), data_c.toarray()))\n",
    "y_pred = model.predict(data)\n",
    "print(y_pred)"
   ]
  },
  {
   "cell_type": "code",
   "execution_count": 99,
   "id": "6b3e02b1",
   "metadata": {},
   "outputs": [],
   "source": [
    "# from sklearn.metrics import r2_score\n",
    "# r2_score(y_test, y_pred)"
   ]
  },
  {
   "cell_type": "code",
   "execution_count": 61,
   "id": "79695c7b",
   "metadata": {},
   "outputs": [
    {
     "name": "stdout",
     "output_type": "stream",
     "text": [
      "(315,)\n"
     ]
    }
   ],
   "source": [
    "print(y_test.shape)\n"
   ]
  },
  {
   "cell_type": "code",
   "execution_count": 62,
   "id": "9f02c550",
   "metadata": {},
   "outputs": [
    {
     "name": "stdout",
     "output_type": "stream",
     "text": [
      "(1,)\n"
     ]
    }
   ],
   "source": [
    "print(y_pred.shape)"
   ]
  },
  {
   "cell_type": "code",
   "execution_count": 63,
   "id": "2c0ede73",
   "metadata": {},
   "outputs": [],
   "source": [
    "y_test = y_test.reshape(-1)\n",
    "y_pred = y_pred.reshape(-1)"
   ]
  },
  {
   "cell_type": "code",
   "execution_count": 64,
   "id": "f6183141",
   "metadata": {},
   "outputs": [
    {
     "name": "stdout",
     "output_type": "stream",
     "text": [
      "(1,)\n"
     ]
    }
   ],
   "source": [
    "print(y_pred.shape)"
   ]
  },
  {
   "cell_type": "code",
   "execution_count": 65,
   "id": "d9ea8b85",
   "metadata": {},
   "outputs": [
    {
     "name": "stdout",
     "output_type": "stream",
     "text": [
      "(315,)\n"
     ]
    }
   ],
   "source": [
    "print(y_test.shape)"
   ]
  },
  {
   "cell_type": "code",
   "execution_count": 93,
   "id": "4ad2b800",
   "metadata": {},
   "outputs": [
    {
     "name": "stdout",
     "output_type": "stream",
     "text": [
      "[[0 0 0 ... 0 1 0]\n",
      " [0 0 0 ... 0 1 0]\n",
      " [0 0 0 ... 0 0 0]\n",
      " ...\n",
      " [0 0 0 ... 0 0 0]\n",
      " [0 0 0 ... 1 0 0]\n",
      " [0 0 0 ... 0 0 0]]\n"
     ]
    }
   ],
   "source": [
    "print(X_train)"
   ]
  },
  {
   "cell_type": "code",
   "execution_count": 94,
   "id": "ea8bf4e1",
   "metadata": {},
   "outputs": [
    {
     "name": "stdout",
     "output_type": "stream",
     "text": [
      "[[0 0 0 ... 0 1 0]\n",
      " [0 0 0 ... 1 0 0]\n",
      " [0 0 0 ... 0 0 0]\n",
      " ...\n",
      " [0 0 0 ... 1 0 0]\n",
      " [0 0 0 ... 0 1 0]\n",
      " [0 0 0 ... 1 0 0]]\n"
     ]
    }
   ],
   "source": [
    "print(X_test)"
   ]
  },
  {
   "cell_type": "code",
   "execution_count": 95,
   "id": "38d7ff32",
   "metadata": {},
   "outputs": [
    {
     "name": "stdout",
     "output_type": "stream",
     "text": [
      "  (0, 921)\t1\n",
      "  (0, 1489)\t1\n",
      "  (0, 1702)\t1\n",
      "  (0, 2004)\t1\n"
     ]
    }
   ],
   "source": [
    "print(data_a)"
   ]
  },
  {
   "cell_type": "code",
   "execution_count": 96,
   "id": "283dcef2",
   "metadata": {},
   "outputs": [
    {
     "name": "stdout",
     "output_type": "stream",
     "text": [
      "  (0, 0)\t1\n"
     ]
    }
   ],
   "source": [
    "print(data_b)"
   ]
  },
  {
   "cell_type": "code",
   "execution_count": 97,
   "id": "80ad71cd",
   "metadata": {},
   "outputs": [
    {
     "name": "stdout",
     "output_type": "stream",
     "text": [
      "  (0, 17)\t1\n"
     ]
    }
   ],
   "source": [
    "print(data_c)"
   ]
  },
  {
   "cell_type": "code",
   "execution_count": 98,
   "id": "6a9991cf",
   "metadata": {},
   "outputs": [
    {
     "data": {
      "text/plain": [
       "array([[0, 0, 0, ..., 0, 1, 0]], dtype=int64)"
      ]
     },
     "execution_count": 98,
     "metadata": {},
     "output_type": "execute_result"
    }
   ],
   "source": [
    "data"
   ]
  },
  {
   "cell_type": "code",
   "execution_count": null,
   "id": "4d79acaa",
   "metadata": {},
   "outputs": [],
   "source": []
  }
 ],
 "metadata": {
  "kernelspec": {
   "display_name": "Python 3 (ipykernel)",
   "language": "python",
   "name": "python3"
  },
  "language_info": {
   "codemirror_mode": {
    "name": "ipython",
    "version": 3
   },
   "file_extension": ".py",
   "mimetype": "text/x-python",
   "name": "python",
   "nbconvert_exporter": "python",
   "pygments_lexer": "ipython3",
   "version": "3.9.12"
  }
 },
 "nbformat": 4,
 "nbformat_minor": 5
}
